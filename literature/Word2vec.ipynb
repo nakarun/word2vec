{
 "cells": [
  {
   "cell_type": "markdown",
   "metadata": {
    "collapsed": true
   },
   "source": [
    "# Word2vec"
   ]
  },
  {
   "cell_type": "markdown",
   "metadata": {},
   "source": [
    "参考 : http://tjo.hatenablog.com/entry/2014/06/19/233949"
   ]
  },
  {
   "cell_type": "code",
   "execution_count": 51,
   "metadata": {
    "collapsed": true
   },
   "outputs": [],
   "source": [
    "from gensim.models import word2vec"
   ]
  },
  {
   "cell_type": "code",
   "execution_count": 52,
   "metadata": {
    "collapsed": true
   },
   "outputs": [],
   "source": [
    "data = word2vec.Text8Corpus('data.txt')"
   ]
  },
  {
   "cell_type": "code",
   "execution_count": 53,
   "metadata": {
    "collapsed": false
   },
   "outputs": [],
   "source": [
    "model = word2vec.Word2Vec(data, size=200)"
   ]
  },
  {
   "cell_type": "code",
   "execution_count": 78,
   "metadata": {
    "collapsed": false
   },
   "outputs": [
    {
     "data": {
      "text/plain": [
       "dict_keys(['方', 'つい', 'め', 'すれ', 'く', 'なけれ', 'そうして', 'お', 'でし', '聞い', '人間', '仙人', 'つ', 'さすが', '下げ', 'そこ', '蛇', 'たち', '（', '女', '火', 'それ', '気', '急', '鉄', '死人', 'なり', 'ます', '５', 'いくら', '｜', 'お前', 'ところが', '黙っ', 'さ', '居り', '鬼', '同じ', '水準', 'あっ', 'らしい', '時', 'とか', 'ある', '落ち', '坐っ', '閻魔大王', '思わず', 'あろ', 'っ', 'すぐ', '出し', '＃', 'あ', 'ぞ', '地', '1', 'どこ', '下り', '字', 'やみ', 'へ', 'し', 'て', '眼', '光', 'まい', 'ただ', 'け', '日', '。', 'で', '昭和', '見え', '暮し', '考え', 'この', '行く', '程', 'ずつ', 'まま', '神', 'かけ', 'か', 'み', '影', 'なる', '二', '筈', 'や', '-', '両手', '顔', '後', '事', '見', '蜘蛛', '71', '聿', '特', '-----------------------', '立っ', '匹', 'げ', 'な', '空', '87', '待っ', 'まで', '四', '家', '何', '例', '上っ', 'ので', '車', '青空文庫', 'きっと', 'って', 'よ', '絶壁', '動かし', '来', '底本', '鞭', 'また', '大きな', '校正', 'ら', 'ま', '出来', '下', '倒れ', '羅', '数', '——', 'んで', '唯', 'こと', '好', '返事', 'こんな', 'せ', '上', '所', '身', '全集', '右', 'しよ', 'も', '己', '蜘蛛の糸', 'ほか', '入力', '彼', 'だ', 'わ', 'ばかり', '子', '楼', '足', '着物', 'どう', 'え', '今', '杜子春', 'ましょ', 'おれ', '耳', '広い', 'まし', '盗人', '梯子', 'から', 'その', '髪', 'とうとう', '一', 'ひ', '記号', '死骸', '挙げ', '----', '思い出し', 'き', '頭', 'つき', 'り', 'それから', '：', '誰', 'は', 'に', 'しまっ', 'だけ', '金', '西', 'なっ', '私', 'のぼっ', 'あの', 'など', '思う', 'す', '森', '行っ', '驚い', '面', '勿論', '声', 'かかっ', 'より', '、', '太刀', '」', '三', '陀多', '違い', '一つ', '星', '蓮池', '）', '出', '洛陽', 'もう', 'でも', 'やはり', 'という', '自分', 'じゃ', 'まわり', '通り', 'する', 'しろ', '峨眉山', 'う', '眺め', 'あり', 'やら', '体', '者', '口', '門', '男', 'ん', '夜', 'そう', '風', '見出し', '手', '一ぱい', 'ば', '第', 'ござい', 'では', 'ルビ', '中', '始め', '髪の毛', '発行', '御釈迦', '内', 'まだ', '思い', 'これ', '夕日', 'よく', 'しかし', 'さっき', '廴', '好い', '老人', 'なくなっ', '贅沢', '言い', '又', '見える', '持っ', 'ね', 'しまい', '心', '階', '殿', '段', 'ここ', '鴉', 'しょ', '］', '「', '血の池', 'を', '丁度', '位', '云っ', 'ませ', 'なれ', 'ほど', '来る', '消え', 'いる', '本', '都', '》', '暫く', 'もの', '3', '将', '知れ', '行き', 'かん', '御', '年', 'じ', '大金持', 'れる', '刷', '高く', '地獄', 'が', 'まるで', '雨', 'よう', '※［＃「', '羅生門', 'る', 'ぼんやり', 'すると', 'たら', '早速', 'いや', 'へん', '見る', 'たり', '《', '云う', '花', '下人', '.', 'あたり', '命', '糸', '＃「', '様', 'なく', '饑死', 'ファイル', '間', '父母', '極楽', 'さえ', 'こう', 'ども', '［', '罪人', 'じっと', '思っ', 'れ', 'び', 'なかっ', '前', '底', 'と', '冠', 'ず', '言葉', 'でしょ', 'やがて', 'そこで', '忘れ', 'ながら', '松', '色', 'の', '勇気', 'なら', 'ない', '老婆', '馬', '人', 'い', 'です', '＋', '芥川龍之介', 'た'])"
      ]
     },
     "execution_count": 78,
     "metadata": {},
     "output_type": "execute_result"
    }
   ],
   "source": [
    "model.vocab.keys()"
   ]
  },
  {
   "cell_type": "code",
   "execution_count": 65,
   "metadata": {
    "collapsed": false
   },
   "outputs": [
    {
     "name": "stdout",
     "output_type": "stream",
     "text": [
      "は 0.9996930360794067\n",
      "ない 0.9996923208236694\n",
      "」 0.9996894001960754\n",
      "へ 0.9996870756149292\n",
      "う 0.9996856451034546\n",
      "ながら 0.9996837973594666\n",
      "が 0.9996800422668457\n",
      "、 0.999679684638977\n",
      "お前 0.9996777772903442\n",
      "。 0.9996757507324219\n"
     ]
    }
   ],
   "source": [
    "out=model.most_similar(positive=[u'人間'])\n",
    "for x in out:\n",
    "    print(x[0],x[1])"
   ]
  },
  {
   "cell_type": "code",
   "execution_count": 77,
   "metadata": {
    "collapsed": false
   },
   "outputs": [
    {
     "data": {
      "text/plain": [
       "0.99961542731803676"
      ]
     },
     "execution_count": 77,
     "metadata": {},
     "output_type": "execute_result"
    }
   ],
   "source": [
    "model.similarity('人間', '眼')"
   ]
  },
  {
   "cell_type": "code",
   "execution_count": 76,
   "metadata": {
    "collapsed": false
   },
   "outputs": [
    {
     "data": {
      "text/plain": [
       "0.99883054985590558"
      ]
     },
     "execution_count": 76,
     "metadata": {},
     "output_type": "execute_result"
    }
   ],
   "source": [
    "model.similarity('絶壁', '死骸')"
   ]
  },
  {
   "cell_type": "markdown",
   "metadata": {},
   "source": [
    "青空文庫 : http://www.aozora.gr.jp/"
   ]
  },
  {
   "cell_type": "markdown",
   "metadata": {
    "collapsed": true
   },
   "source": [
    "芥川竜之介より、「羅生門」、「蜘蛛の糸」、「杜子春」、「鼻」より作成。"
   ]
  },
  {
   "cell_type": "code",
   "execution_count": null,
   "metadata": {
    "collapsed": true
   },
   "outputs": [],
   "source": []
  }
 ],
 "metadata": {
  "anaconda-cloud": {},
  "kernelspec": {
   "display_name": "Python [Root]",
   "language": "python",
   "name": "Python [Root]"
  },
  "language_info": {
   "codemirror_mode": {
    "name": "ipython",
    "version": 3
   },
   "file_extension": ".py",
   "mimetype": "text/x-python",
   "name": "python",
   "nbconvert_exporter": "python",
   "pygments_lexer": "ipython3",
   "version": "3.5.2"
  }
 },
 "nbformat": 4,
 "nbformat_minor": 0
}
