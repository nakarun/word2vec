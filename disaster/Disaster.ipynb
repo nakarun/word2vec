{
 "cells": [
  {
   "cell_type": "markdown",
   "metadata": {},
   "source": [
    "# 大川小学校を襲った津波の悲劇・石巻"
   ]
  },
  {
   "cell_type": "markdown",
   "metadata": {},
   "source": [
    "参考 : http://memory.ever.jp/tsunami/higeki_okawa.html"
   ]
  },
  {
   "cell_type": "code",
   "execution_count": null,
   "metadata": {
    "collapsed": true
   },
   "outputs": [],
   "source": [
    "from gensim.models import word2vec"
   ]
  },
  {
   "cell_type": "code",
   "execution_count": 3,
   "metadata": {
    "collapsed": true
   },
   "outputs": [],
   "source": [
    "data = word2vec.Text8Corpus('disaster_data.txt')"
   ]
  },
  {
   "cell_type": "code",
   "execution_count": 4,
   "metadata": {
    "collapsed": true
   },
   "outputs": [],
   "source": [
    "model = word2vec.Word2Vec(data, size=200)"
   ]
  },
  {
   "cell_type": "code",
   "execution_count": 18,
   "metadata": {
    "collapsed": false,
    "scrolled": true
   },
   "outputs": [
    {
     "data": {
      "text/plain": [
       "dict_keys(['宮城県', 'だっ', 'できる', '中', '近く', 'メートル', 'という', 'ページ', '掲載', '周辺', '会', 'いう', 'ば', 'まま', '開き', 'について', '６', 'れ', '河北新報', '声', '死亡', '割', '惨事', 'する', '＞', '遺族', '全校', 'はず', 'クリック', '地区', '裏山', '４', '子ども', '小', 'よる', '下', '５', '大川小学校', '３', '大津波', '年生', 'さらに', '２', '犠牲者', '堤防', 'ら', '避難', '「', '時', '疑問', '助かっ', 'られ', '保護者', 'は', '高台', 'い', '捜索', '検証', 'おり', '石巻市', '犠牲', 'なかっ', '紙面', '午後', '０', 'に', 'だけ', '出', '車', 'ながら', '校内', '君', '男性', 'でき', '親', '判断', '児童', '４月', '追悼', '）', '状況', '列', 'なっ', 'さん', '」', '大川', 'うち', 'トップ', '山', '教委', '見つかっ', '北上', '当日', '学校', 'ます', 'あっ', '人', '教諭', '年', 'が', 'いる', '当時', '報じ', '震災', '校庭', 'や', '子', '証言', '校舎', '日', '市', '北上川', 'と', '前', '行方不明', '発生', '地震', '小学校', '後', '波', '１', '９月', '関係者', 'キロ', '河北新報社', '第', 'たら', '津波', '(', 'も', 'こと', '９', 'う', 'た', '。', '迎え', '先生', 'ため', 'な', 'ない', '戻る', 'か', 'その', '、', '東日本大震災', '点呼', 'まで', '釜谷', '遺体', 'たい', 'この', '来', 'て', '同', '分', 'さ', 'から', 'し', '／', 'たち', '説明', 'みんな', '階', '校長', '場所', '約', 'き', 'など', 'のま', ')', '被災', '…', 'れる', '＜', '７', '８', 'を', '住民', 'なく', 'の', '石巻', '（', 'へ', '避難所', '河口', '一', '◇', 'で', '面', '・', 'よう', 'だ', 'ある'])"
      ]
     },
     "execution_count": 18,
     "metadata": {},
     "output_type": "execute_result"
    }
   ],
   "source": [
    "model.vocab.keys()"
   ]
  },
  {
   "cell_type": "code",
   "execution_count": 6,
   "metadata": {
    "collapsed": true
   },
   "outputs": [
    {
     "name": "stdout",
     "output_type": "stream",
     "text": [
      "て 0.9990001916885376\n",
      "） 0.9989984035491943\n",
      "、 0.9989979267120361\n",
      "は 0.9989962577819824\n",
      "の 0.9989954233169556\n",
      "を 0.9989917278289795\n",
      "から 0.9989874362945557\n",
      "た 0.9989864826202393\n",
      "が 0.998981773853302\n",
      "学校 0.9989676475524902\n"
     ]
    }
   ],
   "source": [
    "out=model.most_similar(positive=[u'犠牲'])\n",
    "for x in out:\n",
    "    print(x[0],x[1])"
   ]
  },
  {
   "cell_type": "code",
   "execution_count": 7,
   "metadata": {
    "collapsed": true
   },
   "outputs": [
    {
     "name": "stdout",
     "output_type": "stream",
     "text": [
      "こと 0.9991517066955566\n",
      "を 0.9991487264633179\n",
      "の 0.9991472959518433\n",
      "山 0.999142050743103\n",
      "は 0.9991377592086792\n",
      "に 0.999131977558136\n",
      "、 0.9991296529769897\n",
      "。 0.999118447303772\n",
      "が 0.9991145133972168\n",
      "大川 0.9991143941879272\n"
     ]
    }
   ],
   "source": [
    "out=model.most_similar(positive=[u'避難所'])\n",
    "for x in out:\n",
    "    print(x[0],x[1])"
   ]
  },
  {
   "cell_type": "code",
   "execution_count": 8,
   "metadata": {
    "collapsed": true
   },
   "outputs": [
    {
     "name": "stdout",
     "output_type": "stream",
     "text": [
      "の 0.9994487762451172\n",
      "、 0.9994337558746338\n",
      "に 0.99942946434021\n",
      "１ 0.9994257092475891\n",
      "を 0.9994184970855713\n",
      "小 0.9994155168533325\n",
      "が 0.9994125366210938\n",
      "約 0.9994099140167236\n",
      "こと 0.9994080662727356\n",
      "から 0.9994023442268372\n"
     ]
    }
   ],
   "source": [
    "out=model.most_similar(positive=[u'遺族'])\n",
    "for x in out:\n",
    "    print(x[0],x[1])"
   ]
  },
  {
   "cell_type": "code",
   "execution_count": 9,
   "metadata": {
    "collapsed": true
   },
   "outputs": [
    {
     "name": "stdout",
     "output_type": "stream",
     "text": [
      "地震 0.9950641393661499\n",
      "年生 0.9949926137924194\n",
      "＜ 0.9949234127998352\n",
      "れ 0.9949151873588562\n",
      "する 0.9949135780334473\n",
      "て 0.9949008226394653\n",
      "先生 0.9948897361755371\n",
      "よる 0.9948838949203491\n",
      "と 0.9948797821998596\n",
      "（ 0.9948713779449463\n"
     ]
    }
   ],
   "source": [
    "out=model.most_similar(positive=[u'はず'])\n",
    "for x in out:\n",
    "    print(x[0],x[1])"
   ]
  },
  {
   "cell_type": "code",
   "execution_count": 10,
   "metadata": {
    "collapsed": true
   },
   "outputs": [
    {
     "name": "stdout",
     "output_type": "stream",
     "text": [
      "と 0.9997352361679077\n",
      "、 0.9997342824935913\n",
      "た 0.9997316002845764\n",
      "を 0.9997266530990601\n",
      "の 0.9997265934944153\n",
      "に 0.9997251033782959\n",
      "が 0.9997230172157288\n",
      "避難 0.9997224807739258\n",
      "は 0.9997186660766602\n",
      "。 0.9997129440307617\n"
     ]
    }
   ],
   "source": [
    "out=model.most_similar(positive=[u'先生'])\n",
    "for x in out:\n",
    "    print(x[0],x[1])"
   ]
  },
  {
   "cell_type": "code",
   "execution_count": 11,
   "metadata": {
    "collapsed": true
   },
   "outputs": [
    {
     "name": "stdout",
     "output_type": "stream",
     "text": [
      "を 0.9998641014099121\n",
      "の 0.9998561143875122\n",
      "、 0.9998418688774109\n",
      "た 0.999841034412384\n",
      "は 0.9998385906219482\n",
      "１ 0.999836802482605\n",
      "。 0.9998271465301514\n",
      "と 0.9998271465301514\n",
      "で 0.9998257160186768\n",
      "に 0.9998235106468201\n"
     ]
    }
   ],
   "source": [
    "out=model.most_similar(positive=[u'惨事'])\n",
    "for x in out:\n",
    "    print(x[0],x[1])"
   ]
  },
  {
   "cell_type": "code",
   "execution_count": 12,
   "metadata": {
    "collapsed": true
   },
   "outputs": [
    {
     "name": "stdout",
     "output_type": "stream",
     "text": [
      "た 0.9998910427093506\n",
      "の 0.9998877048492432\n",
      "を 0.9998841881752014\n",
      "、 0.9998794198036194\n",
      "は 0.9998766183853149\n",
      "に 0.9998672008514404\n",
      "が 0.9998632669448853\n",
      "と 0.9998632073402405\n",
      "。 0.9998588562011719\n",
      "１ 0.9998534321784973\n"
     ]
    }
   ],
   "source": [
    "out=model.most_similar(positive=[u'津波'])\n",
    "for x in out:\n",
    "    print(x[0],x[1])"
   ]
  },
  {
   "cell_type": "code",
   "execution_count": 13,
   "metadata": {
    "collapsed": true
   },
   "outputs": [
    {
     "name": "stdout",
     "output_type": "stream",
     "text": [
      "を 0.9996725916862488\n",
      "た 0.9996536374092102\n",
      "は 0.9996515512466431\n",
      "、 0.9996464848518372\n",
      "の 0.9996461868286133\n",
      "で 0.9996418952941895\n",
      "大川 0.9996291399002075\n",
      "に 0.9996277093887329\n",
      "１ 0.9996275901794434\n",
      "が 0.9996269941329956\n"
     ]
    }
   ],
   "source": [
    "out=model.most_similar(positive=[u'東日本大震災', u'津波'])\n",
    "for x in out:\n",
    "    print(x[0],x[1])"
   ]
  },
  {
   "cell_type": "code",
   "execution_count": 14,
   "metadata": {
    "collapsed": true
   },
   "outputs": [
    {
     "name": "stdout",
     "output_type": "stream",
     "text": [
      "た 0.9999337792396545\n",
      "を 0.9999326467514038\n",
      "の 0.9999324679374695\n",
      "、 0.99992835521698\n",
      "は 0.9999247789382935\n",
      "が 0.9999173879623413\n",
      "１ 0.9999165534973145\n",
      "と 0.9999078512191772\n",
      "に 0.9999015927314758\n",
      "。 0.9999013543128967\n"
     ]
    }
   ],
   "source": [
    "out=model.most_similar(positive=[u'地震', u'津波'])\n",
    "for x in out:\n",
    "    print(x[0],x[1])"
   ]
  },
  {
   "cell_type": "code",
   "execution_count": 16,
   "metadata": {
    "collapsed": true
   },
   "outputs": [
    {
     "name": "stdout",
     "output_type": "stream",
     "text": [
      "た 0.9995778203010559\n",
      "を 0.9995609521865845\n",
      "で 0.9995551109313965\n",
      "は 0.9995404481887817\n",
      "から 0.9995396733283997\n",
      "の 0.9995381236076355\n",
      "津波 0.9995334148406982\n",
      "大川 0.9995269179344177\n",
      "、 0.9995267391204834\n",
      "分 0.9995256662368774\n"
     ]
    }
   ],
   "source": [
    "out=model.most_similar(positive=[u'大川小学校'])\n",
    "for x in out:\n",
    "    print(x[0],x[1])"
   ]
  },
  {
   "cell_type": "code",
   "execution_count": 17,
   "metadata": {
    "collapsed": true
   },
   "outputs": [
    {
     "name": "stdout",
     "output_type": "stream",
     "text": [
      "た 0.9998185634613037\n",
      "を 0.9998162984848022\n",
      "は 0.9998145699501038\n",
      "、 0.9998129606246948\n",
      "１ 0.9998116493225098\n",
      "の 0.9998060464859009\n",
      "と 0.9997910261154175\n",
      "／ 0.9997820854187012\n",
      "が 0.9997808337211609\n",
      "で 0.9997804164886475\n"
     ]
    }
   ],
   "source": [
    "out=model.most_similar(positive=[u'地震', u'発生'])\n",
    "for x in out:\n",
    "    print(x[0],x[1])"
   ]
  },
  {
   "cell_type": "code",
   "execution_count": null,
   "metadata": {
    "collapsed": true
   },
   "outputs": [],
   "source": []
  }
 ],
 "metadata": {
  "kernelspec": {
   "display_name": "Python [Root]",
   "language": "python",
   "name": "Python [Root]"
  },
  "language_info": {
   "codemirror_mode": {
    "name": "ipython",
    "version": 3
   },
   "file_extension": ".py",
   "mimetype": "text/x-python",
   "name": "python",
   "nbconvert_exporter": "python",
   "pygments_lexer": "ipython3",
   "version": "3.5.2"
  }
 },
 "nbformat": 4,
 "nbformat_minor": 0
}
