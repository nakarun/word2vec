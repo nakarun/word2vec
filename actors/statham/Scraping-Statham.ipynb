{
 "cells": [
  {
   "cell_type": "code",
   "execution_count": 1,
   "metadata": {
    "collapsed": true
   },
   "outputs": [],
   "source": [
    "from bs4 import BeautifulSoup\n",
    "import requests"
   ]
  },
  {
   "cell_type": "code",
   "execution_count": 2,
   "metadata": {
    "collapsed": true
   },
   "outputs": [],
   "source": [
    "import time"
   ]
  },
  {
   "cell_type": "code",
   "execution_count": 3,
   "metadata": {
    "collapsed": true
   },
   "outputs": [],
   "source": [
    "import re"
   ]
  },
  {
   "cell_type": "code",
   "execution_count": 4,
   "metadata": {
    "collapsed": true
   },
   "outputs": [],
   "source": [
    "sthamsam = 'https://www.jtnews.jp/cgi-bin/person.cgi?PERSON_NO=4856'"
   ]
  },
  {
   "cell_type": "code",
   "execution_count": null,
   "metadata": {
    "collapsed": true
   },
   "outputs": [],
   "source": [
    "result = requests.get(url)\n",
    "c = result.content\n",
    "soup = BeautifulSoup(c, \"lxml\")\n",
    "\n"
   ]
  },
  {
   "cell_type": "code",
   "execution_count": 6,
   "metadata": {
    "collapsed": true
   },
   "outputs": [],
   "source": [
    "m_list = [23918, 23733, 22518, 22224, 23215, 21085, 21366, ]"
   ]
  },
  {
   "cell_type": "code",
   "execution_count": 7,
   "metadata": {
    "collapsed": true
   },
   "outputs": [],
   "source": [
    "i = 0 # id\n",
    "allList = [] # すべてのデータを入れるリスト\n",
    "\n",
    "for num in m_list:\n",
    "    time.sleep(3) # 3じゃないとエラーはくよ\n",
    "    url = 'http://www.jtnews.jp/cgi-bin/review.cgi?TITLE_NO=' + str(num)\n",
    "    \n",
    "    result = requests.get(url)\n",
    "    c = result.content\n",
    "    soup = BeautifulSoup(c, \"lxml\")\n",
    "    \n",
    "    title = soup.find(\"title\")\n",
    "    title_text = title.find(text=True)\n",
    "\n",
    "    # 頁_urlのリストの作成\n",
    "    c_url = []\n",
    "    for a in soup.find_all('a'):\n",
    "        text = \"PAGE_NO=\"\n",
    "        pa = a.get('href')\n",
    "        if re.match('.*PAGE_NO=[^1]', pa):\n",
    "            pa = 'http://www.jtnews.jp/cgi-bin/' + pa\n",
    "            if pa not in c_url:\n",
    "                c_url.append(pa)\n",
    "    c_url.insert(0, url)\n",
    "\n",
    "    for item in c_url:\n",
    "        time.sleep(3) # 3じゃないとエラーはくよ\n",
    "        \n",
    "        result = requests.get(item)\n",
    "        c = result.content\n",
    "        soup = BeautifulSoup(c, \"lxml\")\n",
    "\n",
    "        reviews = soup.find_all('table', {'class':'review-area'}) # レビューの入ったテーブル\n",
    "        rows = reviews[0].find_all('tr') # テーブルから行を取り出す\n",
    "        \n",
    "        # 行から、それぞれのcellを取り出して画面に表示しつつ、dataに格納します。\n",
    "        for tr in rows:\n",
    "            tr_text = tr.find_all(text=True)\n",
    "            review = ''.join(tr_text)\n",
    "            \n",
    "            tmp = [i, title_text, review]\n",
    "            allList.append(tmp)\n",
    "            \n",
    "            i+=1"
   ]
  },
  {
   "cell_type": "code",
   "execution_count": 8,
   "metadata": {
    "collapsed": true
   },
   "outputs": [],
   "source": [
    "import pandas as pd"
   ]
  },
  {
   "cell_type": "code",
   "execution_count": 9,
   "metadata": {
    "collapsed": true
   },
   "outputs": [],
   "source": [
    "df_reviews = pd.DataFrame(allList)"
   ]
  },
  {
   "cell_type": "code",
   "execution_count": 12,
   "metadata": {
    "collapsed": false
   },
   "outputs": [],
   "source": [
    "df_reviews.to_csv('./df_reviews.csv')"
   ]
  },
  {
   "cell_type": "code",
   "execution_count": null,
   "metadata": {
    "collapsed": true
   },
   "outputs": [],
   "source": []
  }
 ],
 "metadata": {
  "anaconda-cloud": {},
  "kernelspec": {
   "display_name": "Python [Root]",
   "language": "python",
   "name": "Python [Root]"
  },
  "language_info": {
   "codemirror_mode": {
    "name": "ipython",
    "version": 3
   },
   "file_extension": ".py",
   "mimetype": "text/x-python",
   "name": "python",
   "nbconvert_exporter": "python",
   "pygments_lexer": "ipython3",
   "version": "3.5.2"
  }
 },
 "nbformat": 4,
 "nbformat_minor": 0
}
