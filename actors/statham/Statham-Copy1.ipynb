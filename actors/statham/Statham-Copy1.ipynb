{
 "cells": [
  {
   "cell_type": "code",
   "execution_count": 2,
   "metadata": {
    "collapsed": false
   },
   "outputs": [],
   "source": [
    "import pandas as pd\n",
    "df_reviews = pd.read_csv('./df_reviews.csv')"
   ]
  },
  {
   "cell_type": "code",
   "execution_count": 3,
   "metadata": {
    "collapsed": true
   },
   "outputs": [],
   "source": [
    "del df_reviews['Unnamed: 0']"
   ]
  },
  {
   "cell_type": "code",
   "execution_count": 4,
   "metadata": {
    "collapsed": true
   },
   "outputs": [],
   "source": [
    "df_Statham = df_reviews[(df_reviews['1']=='ワイルド・スピード SKY MISSION - みんなのシネマレビュー') | (df_reviews['1']=='ハミングバード - みんなのシネマレビュー') | (df_reviews['1']=='メカニック(2011) - みんなのシネマレビュー')]"
   ]
  },
  {
   "cell_type": "code",
   "execution_count": 5,
   "metadata": {
    "collapsed": true
   },
   "outputs": [],
   "source": [
    "df_Denis = df_reviews[(df_reviews['1']=='ボーダーライン(2015) - みんなのシネマレビュー') | (df_reviews['1']=='メッセージ - みんなのシネマレビュー') | (df_reviews['1']=='プリズナーズ - みんなのシネマレビュー')]"
   ]
  },
  {
   "cell_type": "code",
   "execution_count": 6,
   "metadata": {
    "collapsed": true
   },
   "outputs": [],
   "source": [
    "df_Eastwood = df_reviews[(df_reviews['1']=='アメリカン・スナイパー - みんなのシネマレビュー') | (df_reviews['1']=='硫黄島からの手紙 - みんなのシネマレビュー')]"
   ]
  },
  {
   "cell_type": "code",
   "execution_count": 31,
   "metadata": {
    "collapsed": false
   },
   "outputs": [],
   "source": [
    "# df_Statham.head()"
   ]
  },
  {
   "cell_type": "code",
   "execution_count": 15,
   "metadata": {
    "collapsed": false
   },
   "outputs": [],
   "source": [
    "df_Statham['2'].to_csv('./Statham.txt')"
   ]
  },
  {
   "cell_type": "code",
   "execution_count": 17,
   "metadata": {
    "collapsed": false
   },
   "outputs": [],
   "source": [
    "import codecs\n",
    "filename = './Statham.txt'\n",
    "f = codecs.open(filename, 'r', 'utf-8')\n",
    "contents = f.read()\n",
    "f.close()"
   ]
  },
  {
   "cell_type": "code",
   "execution_count": 20,
   "metadata": {
    "collapsed": false
   },
   "outputs": [],
   "source": [
    "import MeCab\n",
    "tagger = MeCab.Tagger(\"-Owakati\") "
   ]
  },
  {
   "cell_type": "code",
   "execution_count": 21,
   "metadata": {
    "collapsed": true
   },
   "outputs": [],
   "source": [
    "result = tagger.parse(contents)"
   ]
  },
  {
   "cell_type": "code",
   "execution_count": 25,
   "metadata": {
    "collapsed": true
   },
   "outputs": [],
   "source": [
    "f = open('text.txt', 'w') # 書き込みモードで開く\n",
    "f.write(result) # 引数の文字列をファイルに書き込む\n",
    "f.close() # ファイルを閉じる"
   ]
  },
  {
   "cell_type": "code",
   "execution_count": null,
   "metadata": {
    "collapsed": true
   },
   "outputs": [],
   "source": []
  },
  {
   "cell_type": "code",
   "execution_count": null,
   "metadata": {
    "collapsed": true
   },
   "outputs": [],
   "source": [
    "from gensim.models import word2vec"
   ]
  },
  {
   "cell_type": "code",
   "execution_count": 26,
   "metadata": {
    "collapsed": true
   },
   "outputs": [],
   "source": [
    "data = word2vec.Text8Corpus('text.txt')"
   ]
  },
  {
   "cell_type": "code",
   "execution_count": 27,
   "metadata": {
    "collapsed": false,
    "scrolled": false
   },
   "outputs": [],
   "source": [
    "model = word2vec.Word2Vec(data, size=200)"
   ]
  },
  {
   "cell_type": "code",
   "execution_count": 37,
   "metadata": {
    "collapsed": true
   },
   "outputs": [],
   "source": [
    "mecab = MeCab.Tagger(\"-Ochasen\")"
   ]
  },
  {
   "cell_type": "code",
   "execution_count": 57,
   "metadata": {
    "collapsed": false
   },
   "outputs": [
    {
     "name": "stdout",
     "output_type": "stream",
     "text": [
      "人 0.9999244213104248\n",
      "アクション 0.9999205470085144\n",
      "作 0.9999205470085144\n",
      "ポール 0.9999197721481323\n",
      "シリーズ 0.9999196529388428\n",
      "こと 0.999911367893219\n",
      "車 0.9999101758003235\n",
      "的 0.9999088644981384\n",
      "作品 0.9998995065689087\n",
      ": 0.9998975992202759\n",
      "ば 0.999894380569458\n",
      "それ 0.9998897910118103\n",
      "これ 0.9998862743377686\n",
      ", 0.999885618686676\n",
      "シーン 0.9998810291290283\n",
      "ジェイソン・ステイサム 0.9998809099197388\n",
      "最後 0.9998761415481567\n",
      "感 0.9998748898506165\n",
      "感じ 0.9998744130134583\n",
      "観 0.9998723268508911\n",
      "もの 0.9998714923858643\n",
      "ところ 0.999869704246521\n",
      "さん 0.9998694658279419\n",
      "ストーリー 0.9998676776885986\n",
      "良 0.9998579621315002\n",
      "1 0.9998568296432495\n",
      "好き 0.99985671043396\n",
      "23 0.9998528957366943\n",
      "- 0.9998470544815063\n",
      "女 0.9998462200164795\n"
     ]
    }
   ],
   "source": [
    "out=model.most_similar(positive=['ステイサム', '映画'], topn = 100)\n",
    "for x in out:\n",
    "    #print(mecab.parse(x[0]).split(\"\t\")[3].split(\"-\")[0])\n",
    "    if mecab.parse(x[0]).split(\"\t\")[3].split(\"-\")[0] == '名詞':\n",
    "        print(x[0],x[1])"
   ]
  },
  {
   "cell_type": "code",
   "execution_count": 60,
   "metadata": {
    "collapsed": false
   },
   "outputs": [
    {
     "name": "stdout",
     "output_type": "stream",
     "text": [
      "シリーズ 0.999846339225769\n",
      "作 0.9998385906219482\n",
      "映画 0.9998375177383423\n",
      "こと 0.9998328685760498\n",
      "アクション 0.9998324513435364\n",
      "ポール 0.9998323321342468\n",
      "人 0.9998314380645752\n",
      "車 0.9998234510421753\n",
      "的 0.9998165965080261\n",
      "作品 0.9998149275779724\n",
      ": 0.9998084306716919\n",
      "ば 0.9998071789741516\n",
      "最後 0.9998048543930054\n",
      "これ 0.9998008608818054\n",
      "それ 0.9998005032539368\n",
      "ジェイソン・ステイサム 0.9997985363006592\n",
      "ところ 0.9997984766960144\n",
      ", 0.9997974634170532\n",
      "シーン 0.9997895956039429\n",
      "感じ 0.9997875094413757\n",
      "もの 0.9997870326042175\n",
      "感 0.9997854828834534\n",
      "観 0.9997807741165161\n",
      "1 0.9997786283493042\n",
      "ストーリー 0.9997763633728027\n",
      "良 0.9997747540473938\n",
      "23 0.9997650384902954\n",
      "さん 0.999764084815979\n",
      "ラスト 0.9997595548629761\n",
      "好き 0.999759316444397\n"
     ]
    }
   ],
   "source": [
    "out=model.most_similar(positive=['ステイサム'], topn = 100)\n",
    "for x in out:\n",
    "    if mecab.parse(x[0]).split(\"\t\")[3].split(\"-\")[0] == '名詞':\n",
    "        print(x[0],x[1])"
   ]
  },
  {
   "cell_type": "code",
   "execution_count": null,
   "metadata": {
    "collapsed": true
   },
   "outputs": [],
   "source": []
  }
 ],
 "metadata": {
  "anaconda-cloud": {},
  "kernelspec": {
   "display_name": "Python [Root]",
   "language": "python",
   "name": "Python [Root]"
  },
  "language_info": {
   "codemirror_mode": {
    "name": "ipython",
    "version": 3
   },
   "file_extension": ".py",
   "mimetype": "text/x-python",
   "name": "python",
   "nbconvert_exporter": "python",
   "pygments_lexer": "ipython3",
   "version": "3.5.2"
  }
 },
 "nbformat": 4,
 "nbformat_minor": 0
}
