{
 "cells": [
  {
   "cell_type": "code",
   "execution_count": 2,
   "metadata": {
    "collapsed": false
   },
   "outputs": [],
   "source": [
    "import pandas as pd\n",
    "df_reviews = pd.read_csv('./df_reviews.csv')"
   ]
  },
  {
   "cell_type": "code",
   "execution_count": 3,
   "metadata": {
    "collapsed": true
   },
   "outputs": [],
   "source": [
    "del df_reviews['Unnamed: 0']"
   ]
  },
  {
   "cell_type": "code",
   "execution_count": 4,
   "metadata": {
    "collapsed": true
   },
   "outputs": [],
   "source": [
    "df_Statham = df_reviews[(df_reviews['1']=='ワイルド・スピード SKY MISSION - みんなのシネマレビュー') | (df_reviews['1']=='ハミングバード - みんなのシネマレビュー') | (df_reviews['1']=='メカニック(2011) - みんなのシネマレビュー')]"
   ]
  },
  {
   "cell_type": "code",
   "execution_count": 5,
   "metadata": {
    "collapsed": false
   },
   "outputs": [],
   "source": [
    "# df_Statham.head()"
   ]
  },
  {
   "cell_type": "code",
   "execution_count": 6,
   "metadata": {
    "collapsed": false
   },
   "outputs": [],
   "source": [
    "df_Statham['2'].to_csv('./Statham.txt')"
   ]
  },
  {
   "cell_type": "code",
   "execution_count": 7,
   "metadata": {
    "collapsed": false
   },
   "outputs": [],
   "source": [
    "import codecs\n",
    "filename = './Statham.txt'\n",
    "f = codecs.open(filename, 'r', 'utf-8')\n",
    "contents = f.read()\n",
    "f.close()"
   ]
  },
  {
   "cell_type": "code",
   "execution_count": 8,
   "metadata": {
    "collapsed": false
   },
   "outputs": [],
   "source": [
    "import MeCab\n",
    "tagger = MeCab.Tagger(\"-Owakati\") "
   ]
  },
  {
   "cell_type": "code",
   "execution_count": 9,
   "metadata": {
    "collapsed": true
   },
   "outputs": [],
   "source": [
    "result = tagger.parse(contents)"
   ]
  },
  {
   "cell_type": "code",
   "execution_count": 10,
   "metadata": {
    "collapsed": true
   },
   "outputs": [],
   "source": [
    "f = open('text.txt', 'w') # 書き込みモードで開く\n",
    "f.write(result) # 引数の文字列をファイルに書き込む\n",
    "f.close() # ファイルを閉じる"
   ]
  },
  {
   "cell_type": "code",
   "execution_count": null,
   "metadata": {
    "collapsed": true
   },
   "outputs": [],
   "source": []
  },
  {
   "cell_type": "code",
   "execution_count": 11,
   "metadata": {
    "collapsed": true
   },
   "outputs": [],
   "source": [
    "from gensim.models import word2vec"
   ]
  },
  {
   "cell_type": "code",
   "execution_count": 12,
   "metadata": {
    "collapsed": true
   },
   "outputs": [],
   "source": [
    "data = word2vec.Text8Corpus('text.txt')"
   ]
  },
  {
   "cell_type": "code",
   "execution_count": 13,
   "metadata": {
    "collapsed": false,
    "scrolled": false
   },
   "outputs": [],
   "source": [
    "model = word2vec.Word2Vec(data, size=200)"
   ]
  },
  {
   "cell_type": "code",
   "execution_count": 14,
   "metadata": {
    "collapsed": true
   },
   "outputs": [],
   "source": [
    "mecab = MeCab.Tagger(\"-Ochasen\")"
   ]
  },
  {
   "cell_type": "code",
   "execution_count": 15,
   "metadata": {
    "collapsed": false
   },
   "outputs": [
    {
     "name": "stdout",
     "output_type": "stream",
     "text": [
      "ない 0.9999272227287292\n",
      "アクション 0.9999221563339233\n",
      "人 0.9999220371246338\n",
      "作 0.9999193549156189\n",
      ": 0.9999164342880249\n",
      "シリーズ 0.9999147653579712\n",
      "ポール 0.9999105334281921\n",
      ", 0.9999076128005981\n",
      "こと 0.9998958706855774\n",
      "作品 0.9998925924301147\n",
      "ば 0.9998923540115356\n",
      "もの 0.9998922348022461\n",
      "なく 0.9998915195465088\n",
      "これ 0.9998905062675476\n",
      "女 0.9998875260353088\n",
      "的 0.9998866319656372\n",
      "それ 0.9998753666877747\n",
      "最後 0.9998743534088135\n",
      "いい 0.9998732209205627\n",
      "- 0.9998700618743896\n",
      "観 0.9998691082000732\n",
      "ジェイソン・ステイサム 0.9998681545257568\n",
      "感じ 0.9998660683631897\n",
      "良 0.9998635053634644\n",
      "シーン 0.9998628497123718\n",
      "車 0.9998621940612793\n",
      "23 0.9998611211776733\n",
      "好き 0.9998593330383301\n",
      "ラスト 0.9998535513877869\n",
      "ストーリー 0.9998501539230347\n",
      "彼 0.9998500347137451\n",
      "感 0.9998483657836914\n",
      "主演 0.9998481273651123\n",
      "ところ 0.9998480677604675\n",
      "7 0.9998453855514526\n",
      "屋 0.9998449683189392\n"
     ]
    }
   ],
   "source": [
    "out=model.most_similar(positive=['ステイサム', '映画'], topn = 100)\n",
    "for x in out:\n",
    "    #print(mecab.parse(x[0]).split(\"\t\")[3].split(\"-\")[0])\n",
    "    if (mecab.parse(x[0]).split(\"\t\")[3].split(\"-\")[0] == '名詞') or (mecab.parse(x[0]).split(\"\t\")[3].split(\"-\")[0] == '形容詞'):\n",
    "        print(x[0],x[1])"
   ]
  },
  {
   "cell_type": "code",
   "execution_count": 16,
   "metadata": {
    "collapsed": false
   },
   "outputs": [
    {
     "name": "stdout",
     "output_type": "stream",
     "text": [
      "映画 0.9998571276664734\n",
      "アクション 0.9998562932014465\n",
      "作 0.9998433589935303\n",
      "人 0.9998432993888855\n",
      "シリーズ 0.9998405575752258\n",
      ": 0.9998363256454468\n",
      "ポール 0.9998354911804199\n",
      ", 0.9998315572738647\n",
      "作品 0.9998247623443604\n",
      "もの 0.999823808670044\n",
      "女 0.9998161196708679\n",
      "それ 0.9998159408569336\n",
      "ば 0.9998155832290649\n",
      "これ 0.9998118877410889\n",
      "こと 0.9998109340667725\n",
      "的 0.9998080730438232\n",
      "最後 0.9998080134391785\n",
      "観 0.9997960329055786\n",
      "感じ 0.99979567527771\n",
      "ジェイソン・ステイサム 0.9997937679290771\n",
      "シーン 0.9997871518135071\n",
      "良 0.9997870922088623\n",
      "好き 0.9997851252555847\n",
      "車 0.9997841119766235\n",
      "23 0.9997838735580444\n",
      "- 0.9997838139533997\n",
      "ストーリー 0.9997832775115967\n",
      "彼 0.9997788071632385\n",
      "ラスト 0.9997760057449341\n",
      "屋 0.9997751116752625\n",
      "今 0.9997726678848267\n",
      "方 0.9997710585594177\n",
      "感 0.9997706413269043\n"
     ]
    }
   ],
   "source": [
    "out=model.most_similar(positive=['ステイサム'], topn = 100)\n",
    "for x in out:\n",
    "    if mecab.parse(x[0]).split(\"\t\")[3].split(\"-\")[0] == '名詞':\n",
    "        print(x[0],x[1])"
   ]
  },
  {
   "cell_type": "code",
   "execution_count": null,
   "metadata": {
    "collapsed": true
   },
   "outputs": [],
   "source": []
  }
 ],
 "metadata": {
  "anaconda-cloud": {},
  "kernelspec": {
   "display_name": "Python [Root]",
   "language": "python",
   "name": "Python [Root]"
  },
  "language_info": {
   "codemirror_mode": {
    "name": "ipython",
    "version": 3
   },
   "file_extension": ".py",
   "mimetype": "text/x-python",
   "name": "python",
   "nbconvert_exporter": "python",
   "pygments_lexer": "ipython3",
   "version": "3.5.2"
  }
 },
 "nbformat": 4,
 "nbformat_minor": 0
}
